{
 "cells": [
  {
   "cell_type": "code",
   "execution_count": null,
   "metadata": {},
   "outputs": [],
   "source": [
    "import os\n",
    "import shutil\n",
    "import pandas as pd"
   ]
  },
  {
   "cell_type": "code",
   "execution_count": null,
   "metadata": {},
   "outputs": [],
   "source": [
    "# Объявляем переменные файлов и папки\n",
    "DIR_TRAIN = \"../train/train/\"\n",
    "DIR_TEST = \"../test/test/\"\n",
    "\n",
    "PATH_TRAIN = \"../train/train.csv\"\n",
    "PATH_TEST = \"../test/test.csv\""
   ]
  },
  {
   "cell_type": "code",
   "execution_count": null,
   "metadata": {},
   "outputs": [],
   "source": [
    "# Открываем маппинг изображений и классов\n",
    "train_map = pd.read_csv(PATH_TRAIN)\n",
    "test_map = pd.read_csv(PATH_TEST)"
   ]
  },
  {
   "cell_type": "code",
   "execution_count": null,
   "metadata": {},
   "outputs": [],
   "source": [
    "# Создаем папки для классификации\n",
    "for label in train_map['class'].value_counts().index:\n",
    "    os.makedirs(DIR_TRAIN + str(int(label)))"
   ]
  },
  {
   "cell_type": "code",
   "execution_count": null,
   "metadata": {},
   "outputs": [],
   "source": [
    "# Создаем папки для классификации\n",
    "for label in train_map['class'].value_counts().index:\n",
    "    os.makedirs(DIR_TEST + str(int(label)))"
   ]
  },
  {
   "cell_type": "code",
   "execution_count": null,
   "metadata": {},
   "outputs": [],
   "source": [
    "# Перемещаем файлы по папкам классов\n",
    "def move_file(files_dir, file, category):\n",
    "    shutil.move(files_dir + file, files_dir + f\"{int(category)}/\" + file)\n",
    "    \n",
    "train_map.apply(lambda x: move_file(DIR_TRAIN, x['ID_img'], x['class']), axis = 1)\n",
    "test_map.apply(lambda x: move_file(DIR_TEST, x['ID_img'], x['class']), axis = 1)"
   ]
  }
 ],
 "metadata": {
  "kernelspec": {
   "display_name": "Python 3.10.6 ('cherk')",
   "language": "python",
   "name": "python3"
  },
  "language_info": {
   "name": "python",
   "version": "3.10.6"
  },
  "orig_nbformat": 4,
  "vscode": {
   "interpreter": {
    "hash": "23dee9e2d778cddb129b34201d958790a0c6841ce7582e984970107fcf734feb"
   }
  }
 },
 "nbformat": 4,
 "nbformat_minor": 2
}
