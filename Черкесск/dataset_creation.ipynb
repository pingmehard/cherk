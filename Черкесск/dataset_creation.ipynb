{
 "cells": [
  {
   "cell_type": "code",
   "execution_count": 1,
   "metadata": {},
   "outputs": [],
   "source": [
    "import os\n",
    "import shutil\n",
    "import pandas as pd\n",
    "\n",
    "from collections import Counter"
   ]
  },
  {
   "cell_type": "code",
   "execution_count": 2,
   "metadata": {},
   "outputs": [],
   "source": [
    "# Объявляем переменные файлов и папки\n",
    "DIR_TRAIN = \"../train/train/\"\n",
    "DIR_TEST = \"../test/test/\"\n",
    "\n",
    "PATH_TRAIN = \"../train/train.csv\"\n",
    "PATH_TEST = \"../test/test.csv\""
   ]
  },
  {
   "cell_type": "code",
   "execution_count": 3,
   "metadata": {},
   "outputs": [],
   "source": [
    "# Открываем маппинг изображений и классов\n",
    "train_map = pd.read_csv(PATH_TRAIN)\n",
    "test_map = pd.read_csv(PATH_TEST)"
   ]
  },
  {
   "cell_type": "code",
   "execution_count": 4,
   "metadata": {},
   "outputs": [
    {
     "ename": "FileExistsError",
     "evalue": "[WinError 183] Невозможно создать файл, так как он уже существует: '../train/train/1'",
     "output_type": "error",
     "traceback": [
      "\u001b[1;31m---------------------------------------------------------------------------\u001b[0m",
      "\u001b[1;31mFileExistsError\u001b[0m                           Traceback (most recent call last)",
      "\u001b[1;32md:\\ML\\cherk\\Черкесск\\dataset_creation.ipynb Ячейка 4\u001b[0m in \u001b[0;36m<cell line: 2>\u001b[1;34m()\u001b[0m\n\u001b[0;32m      <a href='vscode-notebook-cell:/d%3A/ML/cherk/%D0%A7%D0%B5%D1%80%D0%BA%D0%B5%D1%81%D1%81%D0%BA/dataset_creation.ipynb#W3sZmlsZQ%3D%3D?line=0'>1</a>\u001b[0m \u001b[39m# Создаем папки для классификации\u001b[39;00m\n\u001b[0;32m      <a href='vscode-notebook-cell:/d%3A/ML/cherk/%D0%A7%D0%B5%D1%80%D0%BA%D0%B5%D1%81%D1%81%D0%BA/dataset_creation.ipynb#W3sZmlsZQ%3D%3D?line=1'>2</a>\u001b[0m \u001b[39mfor\u001b[39;00m label \u001b[39min\u001b[39;00m train_map[\u001b[39m'\u001b[39m\u001b[39mclass\u001b[39m\u001b[39m'\u001b[39m]\u001b[39m.\u001b[39mvalue_counts()\u001b[39m.\u001b[39mindex:\n\u001b[1;32m----> <a href='vscode-notebook-cell:/d%3A/ML/cherk/%D0%A7%D0%B5%D1%80%D0%BA%D0%B5%D1%81%D1%81%D0%BA/dataset_creation.ipynb#W3sZmlsZQ%3D%3D?line=2'>3</a>\u001b[0m     os\u001b[39m.\u001b[39;49mmakedirs(DIR_TRAIN \u001b[39m+\u001b[39;49m \u001b[39mstr\u001b[39;49m(\u001b[39mint\u001b[39;49m(label)))\n",
      "File \u001b[1;32mc:\\Users\\roman\\anaconda3\\envs\\cherk\\lib\\os.py:225\u001b[0m, in \u001b[0;36mmakedirs\u001b[1;34m(name, mode, exist_ok)\u001b[0m\n\u001b[0;32m    223\u001b[0m         \u001b[39mreturn\u001b[39;00m\n\u001b[0;32m    224\u001b[0m \u001b[39mtry\u001b[39;00m:\n\u001b[1;32m--> 225\u001b[0m     mkdir(name, mode)\n\u001b[0;32m    226\u001b[0m \u001b[39mexcept\u001b[39;00m \u001b[39mOSError\u001b[39;00m:\n\u001b[0;32m    227\u001b[0m     \u001b[39m# Cannot rely on checking for EEXIST, since the operating system\u001b[39;00m\n\u001b[0;32m    228\u001b[0m     \u001b[39m# could give priority to other errors like EACCES or EROFS\u001b[39;00m\n\u001b[0;32m    229\u001b[0m     \u001b[39mif\u001b[39;00m \u001b[39mnot\u001b[39;00m exist_ok \u001b[39mor\u001b[39;00m \u001b[39mnot\u001b[39;00m path\u001b[39m.\u001b[39misdir(name):\n",
      "\u001b[1;31mFileExistsError\u001b[0m: [WinError 183] Невозможно создать файл, так как он уже существует: '../train/train/1'"
     ]
    }
   ],
   "source": [
    "# Создаем папки для классификации\n",
    "for label in train_map['class'].value_counts().index:\n",
    "    os.makedirs(DIR_TRAIN + str(int(label)))"
   ]
  },
  {
   "cell_type": "code",
   "execution_count": 6,
   "metadata": {},
   "outputs": [],
   "source": [
    "# Создаем папки для классификации\n",
    "for label in test_map['class'].value_counts().index:\n",
    "    os.makedirs(DIR_TEST + str(int(label)))"
   ]
  },
  {
   "cell_type": "code",
   "execution_count": 7,
   "metadata": {},
   "outputs": [
    {
     "data": {
      "text/plain": [
       "0       None\n",
       "1       None\n",
       "2       None\n",
       "3       None\n",
       "4       None\n",
       "        ... \n",
       "2133    None\n",
       "2134    None\n",
       "2135    None\n",
       "2136    None\n",
       "2137    None\n",
       "Length: 2138, dtype: object"
      ]
     },
     "execution_count": 7,
     "metadata": {},
     "output_type": "execute_result"
    }
   ],
   "source": [
    "# Перемещаем файлы по папкам классов\n",
    "def move_file(files_dir, file, category):\n",
    "    shutil.move(files_dir + file, files_dir + f\"{int(category)}/\" + file)\n",
    "    \n",
    "train_map.apply(lambda x: move_file(DIR_TRAIN, x['ID_img'], x['class']), axis = 1)\n",
    "test_map.apply(lambda x: move_file(DIR_TEST, x['ID_img'], x['class']), axis = 1)"
   ]
  },
  {
   "cell_type": "code",
   "execution_count": 15,
   "metadata": {},
   "outputs": [],
   "source": [
    "a = Counter(train_map['class'])"
   ]
  },
  {
   "cell_type": "code",
   "execution_count": 14,
   "metadata": {},
   "outputs": [
    {
     "data": {
      "text/plain": [
       "1.0    0.682164\n",
       "3.0    0.805812\n",
       "4.0    0.840281\n",
       "5.0    0.896994\n",
       "0.0    0.935671\n",
       "2.0    0.936673\n",
       "6.0    0.941283\n",
       "7.0    0.961122\n",
       "Name: class, dtype: float64"
      ]
     },
     "execution_count": 14,
     "metadata": {},
     "output_type": "execute_result"
    }
   ],
   "source": [
    "1 - train_map['class'].value_counts() / len(train_map)"
   ]
  }
 ],
 "metadata": {
  "kernelspec": {
   "display_name": "Python 3.10.6 ('cherk')",
   "language": "python",
   "name": "python3"
  },
  "language_info": {
   "codemirror_mode": {
    "name": "ipython",
    "version": 3
   },
   "file_extension": ".py",
   "mimetype": "text/x-python",
   "name": "python",
   "nbconvert_exporter": "python",
   "pygments_lexer": "ipython3",
   "version": "3.10.6"
  },
  "orig_nbformat": 4,
  "vscode": {
   "interpreter": {
    "hash": "23dee9e2d778cddb129b34201d958790a0c6841ce7582e984970107fcf734feb"
   }
  }
 },
 "nbformat": 4,
 "nbformat_minor": 2
}
