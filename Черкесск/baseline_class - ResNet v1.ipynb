{
 "cells": [
  {
   "cell_type": "code",
   "execution_count": 1,
   "metadata": {
    "id": "Gzuv2run9Yxa"
   },
   "outputs": [],
   "source": [
    "import matplotlib as plt"
   ]
  },
  {
   "cell_type": "code",
   "execution_count": 2,
   "metadata": {},
   "outputs": [],
   "source": [
    "from tensorflow.keras.preprocessing import image_dataset_from_directory\n",
    "from tensorflow.keras.metrics import Recall\n",
    "# from tensorflow.keras.preprocessing.image import ImageDataGenerator\n",
    "from keras import layers\n",
    "import keras"
   ]
  },
  {
   "cell_type": "code",
   "execution_count": 3,
   "metadata": {},
   "outputs": [],
   "source": [
    "# os.environ['CUDA_VISIBLE_DEVICES'] = '-1'"
   ]
  },
  {
   "cell_type": "markdown",
   "metadata": {
    "id": "l5MpBxb2MjsO"
   },
   "source": [
    "## Датасет\n",
    "\n",
    "Прежде чем разбираться с моделями, нам надо в первую очередь разобраться с тем, как грузить датасет. Давайте напишем класс в торче для этого."
   ]
  },
  {
   "cell_type": "code",
   "execution_count": 4,
   "metadata": {},
   "outputs": [],
   "source": [
    "# Объявляем переменные файлов и папки\n",
    "DIR_TRAIN = \"../train/train/\"\n",
    "DIR_TEST = \"../test/test/\"\n",
    "\n",
    "PATH_TRAIN = \"../train/train.csv\"\n",
    "PATH_TEST = \"../test/test.csv\""
   ]
  },
  {
   "cell_type": "code",
   "execution_count": 5,
   "metadata": {},
   "outputs": [],
   "source": [
    "IMG_SIZE = 256"
   ]
  },
  {
   "cell_type": "code",
   "execution_count": 6,
   "metadata": {},
   "outputs": [
    {
     "name": "stdout",
     "output_type": "stream",
     "text": [
      "Found 4990 files belonging to 8 classes.\n",
      "Using 3992 files for training.\n",
      "Using 998 files for validation.\n"
     ]
    }
   ],
   "source": [
    "ds_train, ds_test = image_dataset_from_directory(\n",
    "    DIR_TRAIN,\n",
    "    subset=\"both\",\n",
    "    seed=123,\n",
    "    labels='inferred',\n",
    "    label_mode='int',\n",
    "    image_size=[IMG_SIZE, IMG_SIZE],\n",
    "    batch_size=16,\n",
    "    interpolation=\"bilinear\",\n",
    "    shuffle=True,\n",
    "    validation_split=0.2,\n",
    ")"
   ]
  },
  {
   "cell_type": "code",
   "execution_count": 7,
   "metadata": {},
   "outputs": [
    {
     "name": "stdout",
     "output_type": "stream",
     "text": [
      "Found 2138 files belonging to 8 classes.\n"
     ]
    }
   ],
   "source": [
    "ds_valid = image_dataset_from_directory(\n",
    "    DIR_TEST,\n",
    "    labels='inferred',\n",
    "    label_mode='int',\n",
    "    image_size=[IMG_SIZE, IMG_SIZE],\n",
    "    batch_size=16,\n",
    "    interpolation=\"bilinear\",\n",
    "    shuffle=True,\n",
    ")"
   ]
  },
  {
   "cell_type": "code",
   "execution_count": 8,
   "metadata": {},
   "outputs": [],
   "source": [
    "from tensorflow.keras.layers import RandomContrast, RandomFlip, RandomRotation\n",
    "from tensorflow.keras.applications.inception_v3 import InceptionV3\n",
    "from tensorflow.keras.applications import ResNet50V2, ResNet152V2\n",
    "from tensorflow.keras.callbacks import EarlyStopping"
   ]
  },
  {
   "cell_type": "code",
   "execution_count": 9,
   "metadata": {},
   "outputs": [],
   "source": [
    "# pretrained_base = InceptionV3(weights='imagenet', include_top=False, input_shape=[IMG_SIZE, IMG_SIZE, 3])\n",
    "# pretrained_base = ResNet152V2(weights='imagenet', include_top=False, input_shape=[IMG_SIZE, IMG_SIZE, 3], classes = 8)\n",
    "pretrained_base = ResNet50V2(weights='imagenet', include_top=False, input_shape=[IMG_SIZE, IMG_SIZE, 3], classes = 8)\n",
    "pretrained_base.trainable = False"
   ]
  },
  {
   "cell_type": "code",
   "execution_count": 10,
   "metadata": {},
   "outputs": [],
   "source": [
    "callback = EarlyStopping(monitor='loss', patience=5, restore_best_weights = True, verbose = True)"
   ]
  },
  {
   "cell_type": "code",
   "execution_count": 11,
   "metadata": {},
   "outputs": [],
   "source": [
    "model = keras.Sequential([\n",
    "    \n",
    "    layers.Rescaling(1./255),\n",
    "\n",
    "    layers.InputLayer(input_shape=[IMG_SIZE, IMG_SIZE, 3]),\n",
    "    \n",
    "    # Data Augmentation\n",
    "    RandomContrast(factor=0.10),\n",
    "    RandomFlip(mode='horizontal'),\n",
    "    RandomRotation(factor=0.10),\n",
    "\n",
    "    pretrained_base,\n",
    "\n",
    "    # Head\n",
    "    # layers.BatchNormalization(renorm=True),\n",
    "    layers.Flatten(),\n",
    "    layers.Dense(16, activation='relu'),\n",
    "    # layers.Dropout(0.5),\n",
    "    layers.Dense(8, activation='softmax'),\n",
    "])"
   ]
  },
  {
   "cell_type": "code",
   "execution_count": 12,
   "metadata": {},
   "outputs": [],
   "source": [
    "model.compile(\n",
    "    optimizer=keras.optimizers.Adam(),\n",
    "    loss = 'SparseCategoricalCrossentropy',\n",
    "    metrics = ['SparseCategoricalAccuracy']\n",
    ")"
   ]
  },
  {
   "cell_type": "code",
   "execution_count": 13,
   "metadata": {},
   "outputs": [],
   "source": [
    "# 1.0    0.317836\n",
    "# 3.0    0.194188\n",
    "# 4.0    0.159719\n",
    "# 5.0    0.103006\n",
    "# 0.0    0.064329\n",
    "# 2.0    0.063327\n",
    "# 6.0    0.058717\n",
    "# 7.0    0.038878\n",
    "\n",
    "# 1.0    0.682164\n",
    "# 3.0    0.805812\n",
    "# 4.0    0.840281\n",
    "# 5.0    0.896994\n",
    "# 0.0    0.935671\n",
    "# 2.0    0.936673\n",
    "# 6.0    0.941283\n",
    "# 7.0    0.961122\n",
    "\n",
    "class_weight = {\n",
    "    0: 0.064329,\n",
    "    1: 0.317836,\n",
    "    2: 0.063327,\n",
    "    3: 0.194188,\n",
    "    4: 0.159719,\n",
    "    5: 0.103006,\n",
    "    6: 0.058717,\n",
    "    7: 0.038878\n",
    "}"
   ]
  },
  {
   "cell_type": "code",
   "execution_count": 14,
   "metadata": {},
   "outputs": [
    {
     "name": "stdout",
     "output_type": "stream",
     "text": [
      "Epoch 1/10\n",
      "WARNING:tensorflow:Using a while_loop for converting RngReadAndSkip cause there is no registered converter for this op.\n",
      "WARNING:tensorflow:Using a while_loop for converting Bitcast cause there is no registered converter for this op.\n",
      "WARNING:tensorflow:Using a while_loop for converting Bitcast cause there is no registered converter for this op.\n",
      "WARNING:tensorflow:Using a while_loop for converting StatelessRandomUniformFullIntV2 cause there is no registered converter for this op.\n",
      "WARNING:tensorflow:Using a while_loop for converting StatelessRandomGetKeyCounter cause there is no registered converter for this op.\n",
      "WARNING:tensorflow:Using a while_loop for converting StatelessRandomUniformV2 cause there is no registered converter for this op.\n",
      "WARNING:tensorflow:Using a while_loop for converting AdjustContrastv2 cause Input \"contrast_factor\" of op 'AdjustContrastv2' expected to be loop invariant.\n",
      "WARNING:tensorflow:Using a while_loop for converting RngReadAndSkip cause there is no registered converter for this op.\n",
      "WARNING:tensorflow:Using a while_loop for converting Bitcast cause there is no registered converter for this op.\n",
      "WARNING:tensorflow:Using a while_loop for converting Bitcast cause there is no registered converter for this op.\n",
      "WARNING:tensorflow:Using a while_loop for converting StatelessRandomUniformV2 cause there is no registered converter for this op.\n",
      "WARNING:tensorflow:Using a while_loop for converting ImageProjectiveTransformV3 cause there is no registered converter for this op.\n",
      "WARNING:tensorflow:Using a while_loop for converting RngReadAndSkip cause there is no registered converter for this op.\n",
      "WARNING:tensorflow:Using a while_loop for converting Bitcast cause there is no registered converter for this op.\n",
      "WARNING:tensorflow:Using a while_loop for converting Bitcast cause there is no registered converter for this op.\n",
      "WARNING:tensorflow:Using a while_loop for converting StatelessRandomUniformFullIntV2 cause there is no registered converter for this op.\n",
      "WARNING:tensorflow:Using a while_loop for converting StatelessRandomGetKeyCounter cause there is no registered converter for this op.\n",
      "WARNING:tensorflow:Using a while_loop for converting StatelessRandomUniformV2 cause there is no registered converter for this op.\n",
      "WARNING:tensorflow:Using a while_loop for converting AdjustContrastv2 cause Input \"contrast_factor\" of op 'AdjustContrastv2' expected to be loop invariant.\n",
      "WARNING:tensorflow:Using a while_loop for converting RngReadAndSkip cause there is no registered converter for this op.\n",
      "WARNING:tensorflow:Using a while_loop for converting Bitcast cause there is no registered converter for this op.\n",
      "WARNING:tensorflow:Using a while_loop for converting Bitcast cause there is no registered converter for this op.\n",
      "WARNING:tensorflow:Using a while_loop for converting StatelessRandomUniformV2 cause there is no registered converter for this op.\n",
      "WARNING:tensorflow:Using a while_loop for converting ImageProjectiveTransformV3 cause there is no registered converter for this op.\n",
      "WARNING:tensorflow:Using a while_loop for converting RngReadAndSkip cause there is no registered converter for this op.\n",
      "WARNING:tensorflow:Using a while_loop for converting Bitcast cause there is no registered converter for this op.\n",
      "WARNING:tensorflow:Using a while_loop for converting Bitcast cause there is no registered converter for this op.\n",
      "WARNING:tensorflow:Using a while_loop for converting StatelessRandomUniformFullIntV2 cause there is no registered converter for this op.\n",
      "WARNING:tensorflow:Using a while_loop for converting StatelessRandomGetKeyCounter cause there is no registered converter for this op.\n",
      "WARNING:tensorflow:Using a while_loop for converting StatelessRandomUniformV2 cause there is no registered converter for this op.\n",
      "WARNING:tensorflow:Using a while_loop for converting AdjustContrastv2 cause Input \"contrast_factor\" of op 'AdjustContrastv2' expected to be loop invariant.\n",
      "WARNING:tensorflow:Using a while_loop for converting RngReadAndSkip cause there is no registered converter for this op.\n",
      "WARNING:tensorflow:Using a while_loop for converting Bitcast cause there is no registered converter for this op.\n",
      "WARNING:tensorflow:Using a while_loop for converting Bitcast cause there is no registered converter for this op.\n",
      "WARNING:tensorflow:Using a while_loop for converting StatelessRandomUniformV2 cause there is no registered converter for this op.\n",
      "WARNING:tensorflow:Using a while_loop for converting ImageProjectiveTransformV3 cause there is no registered converter for this op.\n",
      "250/250 [==============================] - 53s 180ms/step - loss: 0.1279 - sparse_categorical_accuracy: 0.7573 - val_loss: 0.5987 - val_sparse_categorical_accuracy: 0.8487\n",
      "Epoch 2/10\n",
      "250/250 [==============================] - 43s 173ms/step - loss: 0.0577 - sparse_categorical_accuracy: 0.8131 - val_loss: 0.6300 - val_sparse_categorical_accuracy: 0.8567\n",
      "Epoch 3/10\n",
      "250/250 [==============================] - 43s 174ms/step - loss: 0.0450 - sparse_categorical_accuracy: 0.8297 - val_loss: 0.8029 - val_sparse_categorical_accuracy: 0.8427\n",
      "Epoch 4/10\n",
      "250/250 [==============================] - 44s 175ms/step - loss: 0.0502 - sparse_categorical_accuracy: 0.8302 - val_loss: 0.5314 - val_sparse_categorical_accuracy: 0.8587\n",
      "Epoch 5/10\n",
      "250/250 [==============================] - 44s 177ms/step - loss: 0.0418 - sparse_categorical_accuracy: 0.8505 - val_loss: 0.6047 - val_sparse_categorical_accuracy: 0.8457\n",
      "Epoch 6/10\n",
      "250/250 [==============================] - 45s 179ms/step - loss: 0.0472 - sparse_categorical_accuracy: 0.8537 - val_loss: 0.5079 - val_sparse_categorical_accuracy: 0.8657\n",
      "Epoch 7/10\n",
      "250/250 [==============================] - 46s 182ms/step - loss: 0.0320 - sparse_categorical_accuracy: 0.8760 - val_loss: 0.5514 - val_sparse_categorical_accuracy: 0.8747\n",
      "Epoch 8/10\n",
      "250/250 [==============================] - 45s 181ms/step - loss: 0.0310 - sparse_categorical_accuracy: 0.8770 - val_loss: 0.4393 - val_sparse_categorical_accuracy: 0.8838\n",
      "Epoch 9/10\n",
      "250/250 [==============================] - 44s 174ms/step - loss: 0.0306 - sparse_categorical_accuracy: 0.8825 - val_loss: 0.5992 - val_sparse_categorical_accuracy: 0.8798\n",
      "Epoch 10/10\n",
      "250/250 [==============================] - 46s 182ms/step - loss: 0.0282 - sparse_categorical_accuracy: 0.9018 - val_loss: 0.4132 - val_sparse_categorical_accuracy: 0.8828\n"
     ]
    }
   ],
   "source": [
    "history = model.fit(\n",
    "    ds_train,\n",
    "    validation_data=ds_test,\n",
    "    epochs=10, \n",
    "    callbacks=[callback],\n",
    "    class_weight = class_weight\n",
    ")"
   ]
  },
  {
   "cell_type": "code",
   "execution_count": 15,
   "metadata": {},
   "outputs": [
    {
     "data": {
      "text/plain": [
       "<AxesSubplot:>"
      ]
     },
     "execution_count": 15,
     "metadata": {},
     "output_type": "execute_result"
    },
    {
     "data": {
      "image/png": "[encoded data removed]",
      "text/plain": [
       "<Figure size 640x480 with 1 Axes>"
      ]
     },
     "metadata": {},
     "output_type": "display_data"
    },
    {
     "data": {
      "image/png": "[encoded data removed]",
      "text/plain": [
       "<Figure size 640x480 with 1 Axes>"
      ]
     },
     "metadata": {},
     "output_type": "display_data"
    }
   ],
   "source": [
    "import pandas as pd\n",
    "history_frame = pd.DataFrame(history.history)\n",
    "history_frame.loc[:, ['loss', 'val_loss']].plot()\n",
    "history_frame.loc[:, ['sparse_categorical_accuracy', 'val_sparse_categorical_accuracy']].plot()"
   ]
  },
  {
   "cell_type": "code",
   "execution_count": 25,
   "metadata": {},
   "outputs": [
    {
     "name": "stdout",
     "output_type": "stream",
     "text": [
      "63/63 [==============================] - 3s 47ms/step - loss: 0.4132 - sparse_categorical_accuracy: 0.8828\n",
      "[0.4132463037967682, 0.882765531539917]\n"
     ]
    }
   ],
   "source": [
    "### Добавить деление на 255 !!!\n",
    "print(model.evaluate(ds_test, use_multiprocessing = True))"
   ]
  },
  {
   "cell_type": "code",
   "execution_count": 26,
   "metadata": {},
   "outputs": [
    {
     "name": "stdout",
     "output_type": "stream",
     "text": [
      "63/63 [==============================] - 3s 44ms/step\n"
     ]
    }
   ],
   "source": [
    "import numpy as np\n",
    "preds_softmax = model.predict(ds_test, use_multiprocessing=True)\n",
    "preds = np.argmax(preds_softmax, axis = 1)"
   ]
  },
  {
   "cell_type": "code",
   "execution_count": 43,
   "metadata": {},
   "outputs": [],
   "source": [
    "targets = []\n",
    "for batch, target in ds_test:\n",
    "\n",
    "    targets.extend(target.numpy())"
   ]
  },
  {
   "cell_type": "code",
   "execution_count": 27,
   "metadata": {},
   "outputs": [],
   "source": [
    "from sklearn.metrics import recall_score"
   ]
  },
  {
   "cell_type": "code",
   "execution_count": 45,
   "metadata": {},
   "outputs": [
    {
     "name": "stdout",
     "output_type": "stream",
     "text": [
      "Validation accuracy = 0.7783411231441094\n"
     ]
    }
   ],
   "source": [
    "val_accuracy = recall_score(targets, preds, average = \"macro\")\n",
    "print(f\"Validation accuracy = {val_accuracy}\")"
   ]
  }
 ],
 "metadata": {
  "accelerator": "GPU",
  "colab": {
   "provenance": []
  },
  "kernelspec": {
   "display_name": "Python 3.10.6 ('cherk')",
   "language": "python",
   "name": "python3"
  },
  "language_info": {
   "codemirror_mode": {
    "name": "ipython",
    "version": 3
   },
   "file_extension": ".py",
   "mimetype": "text/x-python",
   "name": "python",
   "nbconvert_exporter": "python",
   "pygments_lexer": "ipython3",
   "version": "3.10.6"
  },
  "vscode": {
   "interpreter": {
    "hash": "23dee9e2d778cddb129b34201d958790a0c6841ce7582e984970107fcf734feb"
   }
  }
 },
 "nbformat": 4,
 "nbformat_minor": 1
}
